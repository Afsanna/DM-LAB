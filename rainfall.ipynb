{
 "cells": [
  {
   "cell_type": "code",
   "execution_count": 1,
   "metadata": {},
   "outputs": [],
   "source": [
    "import pandas as pd"
   ]
  },
  {
   "cell_type": "code",
   "execution_count": 7,
   "metadata": {},
   "outputs": [],
   "source": [
    "dataframe=df=pd.read_csv(\"rainfall.csv\")"
   ]
  },
  {
   "cell_type": "code",
   "execution_count": 3,
   "metadata": {},
   "outputs": [
    {
     "name": "stdout",
     "output_type": "stream",
     "text": [
      "   day  pressure   maxtemp  temparature  mintemp  dewpoint  humidity   cloud   \\\n",
      "0    1     1025.9     19.9         18.3     16.8      13.1         72      49   \n",
      "1    2     1022.0     21.7         18.9     17.2      15.6         81      83   \n",
      "2    3     1019.7     20.3         19.3     18.0      18.4         95      91   \n",
      "3    4     1018.9     22.3         20.6     19.1      18.8         90      88   \n",
      "4    5     1015.9     21.3         20.7     20.2      19.9         95      81   \n",
      "5    6     1018.8     24.3         20.9     19.2      18.0         84      51   \n",
      "6    7     1021.8     21.4         18.8     17.0      15.0         79      56   \n",
      "7    8     1020.8     21.0         18.4     16.5      14.4         78      28   \n",
      "8    9     1020.6     18.9         18.1     17.1      14.3         78      79   \n",
      "9   10     1017.5     18.5         18.0     17.2      15.5         85      91   \n",
      "\n",
      "  rainfall  sunshine           winddirection  windspeed  \n",
      "0      yes       9.3                    80.0       26.3  \n",
      "1      yes       0.6                    50.0       15.3  \n",
      "2      yes       0.0                    40.0       14.2  \n",
      "3      yes       1.0                    50.0       16.9  \n",
      "4      yes       0.0                    40.0       13.7  \n",
      "5      yes       7.7                    20.0       14.5  \n",
      "6       no       3.4                    30.0       21.5  \n",
      "7       no       7.7                    60.0       14.3  \n",
      "8       no       3.3                    70.0       39.3  \n",
      "9      yes       0.0                    70.0       37.7  \n"
     ]
    }
   ],
   "source": [
    "print(df.head(10))"
   ]
  },
  {
   "cell_type": "code",
   "execution_count": 4,
   "metadata": {},
   "outputs": [
    {
     "name": "stdout",
     "output_type": "stream",
     "text": [
      "     day  pressure   maxtemp  temparature  mintemp  dewpoint  humidity   \\\n",
      "356   22     1020.3     20.6         19.9     18.7      17.6         87   \n",
      "357   23     1017.8     22.3         21.1     19.8      19.6         91   \n",
      "358   24     1016.8     24.7         22.3     21.1      20.7         91   \n",
      "359   25     1020.4     21.4         18.2     16.1      13.5         75   \n",
      "360   26     1020.6     19.7         17.9     16.9      13.3         74   \n",
      "361   27     1022.7     18.8         17.7     16.9      15.0         84   \n",
      "362   28     1026.6     18.6         17.3     16.3      12.8         75   \n",
      "363   29     1025.9     18.9         17.7     16.4      13.3         75   \n",
      "364   30     1025.3     19.2         17.3     15.2      13.3         78   \n",
      "365   31     1026.4     20.5         17.8     15.5      13.0         74   \n",
      "\n",
      "     cloud  rainfall  sunshine           winddirection  windspeed  \n",
      "356      88      yes       0.3                    60.0       27.3  \n",
      "357      79      yes       0.0                    40.0       15.0  \n",
      "358      70      yes       6.0                    40.0        9.4  \n",
      "359      89      yes       0.7                    10.0       27.6  \n",
      "360      87       no       0.6                    30.0       21.6  \n",
      "361      90      yes       0.0                    30.0       18.4  \n",
      "362      85      yes       1.0                    20.0       25.9  \n",
      "363      78      yes       4.6                    70.0       33.4  \n",
      "364      86      yes       1.2                    20.0       20.9  \n",
      "365      66       no       5.7                    20.0       23.3  \n"
     ]
    }
   ],
   "source": [
    "print(df.tail(10))"
   ]
  },
  {
   "cell_type": "code",
   "execution_count": 8,
   "metadata": {},
   "outputs": [
    {
     "name": "stdout",
     "output_type": "stream",
     "text": [
      "Index(['day', 'pressure ', 'maxtemp', 'temparature', 'mintemp', 'dewpoint',\n",
      "       'humidity ', 'cloud ', 'rainfall', 'sunshine', '         winddirection',\n",
      "       'windspeed'],\n",
      "      dtype='object')\n"
     ]
    }
   ],
   "source": [
    "print(dataframe.columns)"
   ]
  },
  {
   "cell_type": "code",
   "execution_count": 9,
   "metadata": {},
   "outputs": [
    {
     "name": "stdout",
     "output_type": "stream",
     "text": [
      "day                         int64\n",
      "pressure                  float64\n",
      "maxtemp                   float64\n",
      "temparature               float64\n",
      "mintemp                   float64\n",
      "dewpoint                  float64\n",
      "humidity                    int64\n",
      "cloud                       int64\n",
      "rainfall                   object\n",
      "sunshine                  float64\n",
      "         winddirection    float64\n",
      "windspeed                 float64\n",
      "dtype: object\n"
     ]
    }
   ],
   "source": [
    "print(dataframe.dtypes)"
   ]
  },
  {
   "cell_type": "code",
   "execution_count": 10,
   "metadata": {},
   "outputs": [],
   "source": []
  },
  {
   "cell_type": "code",
   "execution_count": 11,
   "metadata": {},
   "outputs": [
    {
     "name": "stderr",
     "output_type": "stream",
     "text": [
      "Matplotlib is building the font cache; this may take a moment.\n"
     ]
    }
   ],
   "source": []
  },
  {
   "cell_type": "code",
   "execution_count": null,
   "metadata": {},
   "outputs": [],
   "source": [
    "\n"
   ]
  }
 ],
 "metadata": {
  "kernelspec": {
   "display_name": "Python 3",
   "language": "python",
   "name": "python3"
  },
  "language_info": {
   "codemirror_mode": {
    "name": "ipython",
    "version": 3
   },
   "file_extension": ".py",
   "mimetype": "text/x-python",
   "name": "python",
   "nbconvert_exporter": "python",
   "pygments_lexer": "ipython3",
   "version": "3.8.5"
  }
 },
 "nbformat": 4,
 "nbformat_minor": 4
}
